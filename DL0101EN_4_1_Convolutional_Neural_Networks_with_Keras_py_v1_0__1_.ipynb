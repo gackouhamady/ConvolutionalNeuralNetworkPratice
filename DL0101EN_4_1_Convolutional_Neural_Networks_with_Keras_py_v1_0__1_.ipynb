{
  "cells": [
    {
      "cell_type": "markdown",
      "metadata": {
        "id": "view-in-github",
        "colab_type": "text"
      },
      "source": [
        "<a href=\"https://colab.research.google.com/github/gackouhamady/ConvolutionalNeuralNetworkPratice/blob/main/DL0101EN_4_1_Convolutional_Neural_Networks_with_Keras_py_v1_0__1_.ipynb\" target=\"_parent\"><img src=\"https://colab.research.google.com/assets/colab-badge.svg\" alt=\"Open In Colab\"/></a>"
      ]
    },
    {
      "cell_type": "markdown",
      "metadata": {
        "id": "ec8bacf7-7929-4c25-a072-57078a9781a6"
      },
      "source": [
        "<a href=\"https://cognitiveclass.ai/?utm_medium=Exinfluencer&utm_source=Exinfluencer&utm_content=000026UJ&utm_term=10006555&utm_id=NA-SkillsNetwork-Channel-SkillsNetworkCoursesIBMDeveloperSkillsNetworkDL0101ENSkillsNetwork945-2022-01-01\"><img src=\"https://cf-courses-data.s3.us.cloud-object-storage.appdomain.cloud/IBMDeveloperSkillsNetwork-DL0101EN-SkillsNetwork/images/IDSN-logo.png\" width=\"400\"> </a>\n",
        "\n",
        "<h1 align=center><font size = 5>Réseaux neuronaux convolutifs avec Keras</font> </h1>\n"
      ]
    },
    {
      "cell_type": "markdown",
      "metadata": {
        "id": "076c4e44-6f8c-4e98-b201-27e8cc35427c"
      },
      "source": [
        "Dans ce laboratoire, nous apprendrons à utiliser la bibliothèque Keras pour construire des réseaux neuronaux convolutifs. Nous utiliserons également le populaire ensemble de données MNIST et nous comparerons nos résultats à l'utilisation d'un réseau neuronal conventionnel."
      ]
    },
    {
      "cell_type": "markdown",
      "metadata": {
        "id": "c0af36d5-c39c-4db1-9abf-e6ae24b6d429"
      },
      "source": [
        "<h2>Réseaux neuronaux convolutifs avec Keras</h2>\n",
        "\n",
        "<h3>Objectif de ce cahier<h3>    \n",
        "<h5> 1.Comment utiliser la bibliothèque Keras pour construire des réseaux neuronaux convolutifs.</h5>\n",
        "<h5>2. Réseau neuronal convolutif avec une couche convolutive et une couche de mise en commun.</h5>\n",
        "<h5>3. Réseau neuronal convolutif avec deux couches de convolution et de mise en commun.</h5>\n",
        "\n"
      ]
    },
    {
      "cell_type": "markdown",
      "metadata": {
        "id": "a145693f-77be-4698-9305-933d6541bed9"
      },
      "source": [
        "## Table des matières\n",
        "\n",
        "<div class=\"alert alert-block alert-info\" style=\"margin-top: 20px\">\n",
        "\n",
        "<font size = 3>\n",
        "      \n",
        "1. <a href=\"#item41\">Importer Keras et les paquets</a>   \n",
        "2. <a href=\"#item42\">Réseau neuronal convolutif avec une couche convolutive et une couche de mise en commun</a>  \n",
        "3. <a href=\"#item43\">Réseau neuronal convolutif avec deux couches convolutives et une couche de mise en commun</a>  \n",
        "\n",
        "</font>\n",
        "</div>\n"
      ]
    },
    {
      "cell_type": "markdown",
      "metadata": {
        "id": "a9f28727-1324-4544-86e8-5dc44e72cc9e"
      },
      "source": [
        "<a id='item41'></a>\n"
      ]
    },
    {
      "cell_type": "markdown",
      "metadata": {
        "id": "fd1a9901-1ad1-44e2-8d7c-6abbc1d4c5fa"
      },
      "source": [
        "## Importer Keras et les paquets\n",
        " \n",
        "\n",
        "\n"
      ]
    },
    {
      "cell_type": "markdown",
      "metadata": {
        "id": "f4daa2c1-9de3-406c-8e5b-192095c7899a"
      },
      "source": [
        "Commençons par importer les bibliothèques keras et les paquets dont nous avons besoin pour construire un réseau neuronal."
      ]
    },
    {
      "cell_type": "code",
      "metadata": {
        "id": "7f754a0a-5333-4ac6-b3db-8571b16421c7"
      },
      "outputs": [],
      "source": [
        "# Toutes les bibliothèques requises pour ce laboratoire sont listées ci-dessous. Les bibliothèques préinstallées sur Skills Network Labs sont commentées. \n",
        "# Si vous exécutez ce cahier dans un environnement différent, par exemple votre bureau, vous devrez peut-être décommenter et installer certaines bibliothèques.\n",
        "\n",
        "#!pip install numpy==1.21.4\n",
        "#!pip install pandas==1.3.4\n",
        "#!pip install keras==2.1.6"
      ],
      "execution_count": 1
    },
    {
      "cell_type": "code",
      "metadata": {
        "id": "caf13643-fbbb-4805-bca7-e7058b620f23"
      },
      "outputs": [],
      "source": [
        "import keras\n",
        "from keras.models import Sequential\n",
        "from keras.layers import Dense\n",
        "from keras.utils import to_categorical"
      ],
      "execution_count": 2
    },
    {
      "cell_type": "markdown",
      "metadata": {
        "id": "6dbe4f53-8aba-4207-a65b-cc86be6ab692"
      },
      "source": [
        "Pour travailler avec des réseaux de neurones convolutifs en particulier, nous aurons besoin de paquets supplémentaires.\n"
      ]
    },
    {
      "cell_type": "code",
      "metadata": {
        "id": "76703d9c-3ebb-4120-9aa5-64e7b56f6df9"
      },
      "outputs": [],
      "source": [
        "from keras.layers.convolutional import Conv2D # pour ajouter des couches convolutives\n",
        "from keras.layers.convolutional import MaxPooling2D # pour ajouter des couches de mise en commun\n",
        "from keras.layers import Flatten #  pour aplatir les données pour les couches entièrement connectées"
      ],
      "execution_count": 4
    },
    {
      "cell_type": "markdown",
      "metadata": {
        "id": "28bec1ed-fae8-4523-9400-03f259b83118"
      },
      "source": [
        "<a id='item42'></a>\n"
      ]
    },
    {
      "cell_type": "markdown",
      "metadata": {
        "id": "8c2c6d4d-4199-4ac3-86fd-83d0af27b76b"
      },
      "source": [
        " ## Couche convolutive avec un ensemble de couches convolutives et de couches de mise en commun\n"
      ]
    },
    {
      "cell_type": "code",
      "metadata": {
        "id": "0b926053-ed83-4419-9df6-bbafcfc7f2e2"
      },
      "outputs": [],
      "source": [
        "# import data\n",
        "from keras.datasets import mnist\n",
        "\n",
        "# load data\n",
        "(X_train, y_train), (X_test, y_test) = mnist.load_data()\n",
        "\n",
        "# reshape to be [samples][pixels][width][height]\n",
        "X_train = X_train.reshape(X_train.shape[0], 28, 28, 1).astype('float32')\n",
        "X_test = X_test.reshape(X_test.shape[0], 28, 28, 1).astype('float32')\n"
      ],
      "execution_count": 9
    },
    {
      "cell_type": "markdown",
      "metadata": {
        "id": "75bfc804-4b7e-4ce6-b5e8-3ddab966108d"
      },
      "source": [
        "Normalisons les valeurs des pixels pour qu'elles soient comprises entre 0 et 1\n"
      ]
    },
    {
      "cell_type": "code",
      "metadata": {
        "id": "8cd56d94-762f-4a2b-8116-6f04313c5228"
      },
      "outputs": [],
      "source": [
        "X_train = X_train / 255 # normalize training data\n",
        "X_test = X_test / 255 # normalize test data"
      ],
      "execution_count": 7
    },
    {
      "cell_type": "markdown",
      "metadata": {
        "id": "6e10086d-2c0e-481e-b136-47ce17d7bd47"
      },
      "source": [
        "Ensuite, convertissons la variable cible en catégories binaires\n"
      ]
    },
    {
      "cell_type": "code",
      "metadata": {
        "id": "3a368493-3d57-47f8-a735-7807ba675e3d"
      },
      "outputs": [],
      "source": [
        "y_train = to_categorical(y_train)\n",
        "y_test = to_categorical(y_test)\n",
        "\n",
        "num_classes = y_test.shape[1] # number of categories"
      ],
      "execution_count": 10
    },
    {
      "cell_type": "markdown",
      "metadata": {
        "id": "31a494f7-8bb2-4971-a5b7-a8d17b391958"
      },
      "source": [
        "Ensuite, définissons une fonction qui crée notre modèle. Commençons par un ensemble de couches convolutives et de couches de mise en commun."
      ]
    },
    {
      "cell_type": "code",
      "metadata": {
        "id": "762b15ce-04b4-4b52-91f4-5531b095adc2"
      },
      "outputs": [],
      "source": [
        "def convolutional_model():\n",
        "    \n",
        "    # create model\n",
        "    model = Sequential()\n",
        "    model.add(Conv2D(16, (5, 5), strides=(1, 1), activation='relu', input_shape=(28, 28, 1)))\n",
        "    model.add(MaxPooling2D(pool_size=(2, 2), strides=(2, 2)))\n",
        "    \n",
        "    model.add(Flatten())\n",
        "    model.add(Dense(100, activation='relu'))\n",
        "    model.add(Dense(num_classes, activation='softmax'))\n",
        "    \n",
        "    # compile model\n",
        "    model.compile(optimizer='adam', loss='categorical_crossentropy',  metrics=['accuracy'])\n",
        "    return model"
      ],
      "execution_count": null
    },
    {
      "cell_type": "markdown",
      "metadata": {
        "id": "adcd9352-8259-49e2-ac90-810ed08838f4"
      },
      "source": [
        "Enfin, appelons la fonction pour créer le modèle, puis entraînons-le et évaluons-le.\n"
      ]
    },
    {
      "cell_type": "code",
      "metadata": {
        "id": "7bc53a31-62d6-4bbc-b622-2c22b7e45c9f"
      },
      "outputs": [],
      "source": [
        "# build the model\n",
        "model = convolutional_model()\n",
        "\n",
        "# fit the model\n",
        "model.fit(X_train, y_train, validation_data=(X_test, y_test), epochs=10, batch_size=200, verbose=2)\n",
        "\n",
        "# evaluate the model\n",
        "scores = model.evaluate(X_test, y_test, verbose=0)\n",
        "print(\"Accuracy: {} \\n Error: {}\".format(scores[1], 100-scores[1]*100))"
      ],
      "execution_count": null
    },
    {
      "cell_type": "markdown",
      "metadata": {
        "id": "7fda50d4-2b28-4a03-95d3-a78f6e289992"
      },
      "source": [
        "------------------------------------------\n"
      ]
    },
    {
      "cell_type": "markdown",
      "metadata": {
        "id": "0b4bcd75-801e-4ccb-b268-a35d3249d39c"
      },
      "source": [
        "<a id='item43'></a>\n"
      ]
    },
    {
      "cell_type": "markdown",
      "metadata": {
        "id": "dacc665a-cf08-4b37-93e9-51b24a3c5f65"
      },
      "source": [
        "## Couche convolutive avec deux ensembles de couches convolutives et de couches de mise en commun\n"
      ]
    },
    {
      "cell_type": "markdown",
      "metadata": {
        "id": "89123c1f-18ba-402b-8d14-83ed04bac39a"
      },
      "source": [
        "Let's redefine our convolutional model so that it has two convolutional and pooling layers instead of just one layer of each.\n"
      ]
    },
    {
      "cell_type": "code",
      "metadata": {
        "id": "e4b3fb97-94a5-421b-80c1-8c4fe4134eb2"
      },
      "outputs": [],
      "source": [
        "def convolutional_model():\n",
        "    \n",
        "    # create model\n",
        "    model = Sequential()\n",
        "    model.add(Conv2D(16, (5, 5), activation='relu', input_shape=(28, 28, 1)))\n",
        "    model.add(MaxPooling2D(pool_size=(2, 2), strides=(2, 2)))\n",
        "    \n",
        "    model.add(Conv2D(8, (2, 2), activation='relu'))\n",
        "    model.add(MaxPooling2D(pool_size=(2, 2), strides=(2, 2)))\n",
        "    \n",
        "    model.add(Flatten())\n",
        "    model.add(Dense(100, activation='relu'))\n",
        "    model.add(Dense(num_classes, activation='softmax'))\n",
        "    \n",
        "    # Compile model\n",
        "    model.compile(optimizer='adam', loss='categorical_crossentropy',  metrics=['accuracy'])\n",
        "    return model"
      ],
      "execution_count": 11
    },
    {
      "cell_type": "markdown",
      "metadata": {
        "id": "90e1050d-e6b1-4a7e-a028-273b119dcc68"
      },
      "source": [
        "Appelons maintenant la fonction pour créer notre nouveau réseau neuronal convolutif, puis entraînons-le et évaluons-le.\n",
        "\n",
        " \n",
        "\n"
      ]
    },
    {
      "cell_type": "code",
      "metadata": {
        "id": "1c9020f2-a385-4ba5-9923-7fa42be5dd32",
        "outputId": "163641c5-423b-45d5-e4c8-f5c5e92e63a2",
        "colab": {
          "base_uri": "https://localhost:8080/"
        }
      },
      "outputs": [
        {
          "output_type": "stream",
          "name": "stdout",
          "text": [
            "Epoch 1/10\n",
            "300/300 - 24s - loss: 1.3313 - accuracy: 0.8070 - val_loss: 0.2458 - val_accuracy: 0.9319 - 24s/epoch - 79ms/step\n",
            "Epoch 2/10\n",
            "300/300 - 23s - loss: 0.1917 - accuracy: 0.9474 - val_loss: 0.1528 - val_accuracy: 0.9576 - 23s/epoch - 76ms/step\n",
            "Epoch 3/10\n",
            "300/300 - 23s - loss: 0.1245 - accuracy: 0.9645 - val_loss: 0.1201 - val_accuracy: 0.9655 - 23s/epoch - 76ms/step\n",
            "Epoch 4/10\n",
            "300/300 - 22s - loss: 0.0952 - accuracy: 0.9716 - val_loss: 0.1045 - val_accuracy: 0.9685 - 22s/epoch - 74ms/step\n",
            "Epoch 5/10\n",
            "300/300 - 23s - loss: 0.0757 - accuracy: 0.9771 - val_loss: 0.0998 - val_accuracy: 0.9716 - 23s/epoch - 77ms/step\n",
            "Epoch 6/10\n",
            "300/300 - 23s - loss: 0.0614 - accuracy: 0.9815 - val_loss: 0.0810 - val_accuracy: 0.9763 - 23s/epoch - 77ms/step\n",
            "Epoch 7/10\n",
            "300/300 - 21s - loss: 0.0541 - accuracy: 0.9838 - val_loss: 0.0890 - val_accuracy: 0.9746 - 21s/epoch - 71ms/step\n",
            "Epoch 8/10\n",
            "300/300 - 23s - loss: 0.0457 - accuracy: 0.9856 - val_loss: 0.0767 - val_accuracy: 0.9782 - 23s/epoch - 76ms/step\n",
            "Epoch 9/10\n",
            "300/300 - 23s - loss: 0.0394 - accuracy: 0.9879 - val_loss: 0.0734 - val_accuracy: 0.9795 - 23s/epoch - 77ms/step\n",
            "Epoch 10/10\n",
            "300/300 - 23s - loss: 0.0346 - accuracy: 0.9888 - val_loss: 0.0744 - val_accuracy: 0.9802 - 23s/epoch - 75ms/step\n",
            "Accuracy: 0.9801999926567078 \n",
            " Error: 1.9800007343292236\n"
          ]
        }
      ],
      "source": [
        "# build the model\n",
        "model = convolutional_model()\n",
        "\n",
        "# fit the model\n",
        "model.fit(X_train, y_train, validation_data=(X_test, y_test), epochs=10, batch_size=200, verbose=2)\n",
        "\n",
        "# evaluate the model\n",
        "scores = model.evaluate(X_test, y_test, verbose=0)\n",
        "print(\"Accuracy: {} \\n Error: {}\".format(scores[1], 100-scores[1]*100))"
      ],
      "execution_count": 12
    },
    {
      "cell_type": "markdown",
      "metadata": {
        "id": "7b5916c4-33c0-4f2b-8592-f6e030e82837"
      },
      "source": [
        "### Merci d'avoir complété ce laboratoire !\n",
        "\n",
        "Ce cahier a été créé par [Alex Aklson](https://www.linkedin.com/in/aklson/?utm_medium=Exinfluencer&utm_source=Exinfluencer&utm_content=000026UJ&utm_term=10006555&utm_id=NA-SkillsNetwork-Channel-SkillsNetworkCoursesIBMDeveloperSkillsNetworkDL0101ENSkillsNetwork945-2022-01-01).J'espère que vous avez trouvé ce laboratoire intéressant et éducatif. N'hésitez pas à me contacter si vous avez des questions !\n"
      ]
    },
    {
      "cell_type": "markdown",
      "metadata": {
        "id": "d75c5eb1-532d-480c-947b-c161c7125c7e"
      },
      "source": [
        "\n",
        "## Journal des modifications\n",
        "\n",
        "|  Date (YYYY-MM-DD) |  Version | Modifié par  | description de  Changement  |\n",
        "|---|---|---|---|\n",
        "| 2020-09-21  | 2.0  |   |   Migration du Lab vers Markdown et ajout au repo du cours dans GitLab |\n",
        "\n",
        "\n",
        "\n",
        "<hr>\n",
        "\n",
        "## <h3 align=\"center\"> © IBM Corporation 2020. Tous les droits sont réservés. <h3/>\n"
      ]
    },
    {
      "cell_type": "markdown",
      "metadata": {
        "id": "fed37486-39c4-4a8d-ad63-6cce83855312"
      },
      "source": [
        "Ce cahier fait partie d'un cours sur **Coursera** appelé *Introduction à l'apprentissage profond et aux réseaux neuronaux avec Keras*. Si vous avez accédé à ce cahier en dehors du cours, vous pouvez suivre ce cours en ligne en cliquant [ici](https://cocl.us/DL0101EN_Coursera_Week4_LAB1).\n"
      ]
    }
  ],
  "metadata": {
    "kernelspec": {
      "display_name": "Python",
      "language": "python",
      "name": "conda-env-python-py"
    },
    "language_info": {
      "name": ""
    },
    "colab": {
      "provenance": [],
      "include_colab_link": true
    }
  },
  "nbformat": 4,
  "nbformat_minor": 0
}